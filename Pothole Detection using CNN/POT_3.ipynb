{
 "cells": [
  {
   "cell_type": "code",
   "execution_count": 6,
   "metadata": {},
   "outputs": [
    {
     "name": "stdout",
     "output_type": "stream",
     "text": [
      "3-conv-64-nodes-0-dense1595528329\n",
      "Epoch 1/5\n",
      "20/20 [==============================] - 16s 821ms/step - loss: 0.6032 - accuracy: 0.6830 - val_loss: 0.5477 - val_accuracy: 0.7500\n",
      "Epoch 2/5\n",
      "20/20 [==============================] - 17s 826ms/step - loss: 0.4942 - accuracy: 0.7533 - val_loss: 0.4592 - val_accuracy: 0.7941\n",
      "Epoch 3/5\n",
      "20/20 [==============================] - 17s 833ms/step - loss: 0.3215 - accuracy: 0.8627 - val_loss: 0.3935 - val_accuracy: 0.7794\n",
      "Epoch 4/5\n",
      "20/20 [==============================] - 17s 836ms/step - loss: 0.3624 - accuracy: 0.8399 - val_loss: 0.4205 - val_accuracy: 0.7794\n",
      "Epoch 5/5\n",
      "20/20 [==============================] - 17s 826ms/step - loss: 0.3092 - accuracy: 0.8725 - val_loss: 0.3786 - val_accuracy: 0.8235\n"
     ]
    }
   ],
   "source": [
    "import tensorflow as tf\n",
    "import numpy as np\n",
    "from tensorflow.keras.datasets import cifar10\n",
    "from tensorflow.keras.preprocessing.image import ImageDataGenerator\n",
    "from tensorflow.keras.models import Sequential\n",
    "from tensorflow.keras.layers import Dense,Dropout, Activation, Flatten, Conv2D, MaxPooling2D\n",
    "from tensorflow.keras.callbacks import TensorBoard\n",
    "import pickle\n",
    "import time \n",
    "\n",
    "X = pickle.load(open('X.pickle','rb'))\n",
    "y = pickle.load(open('y.pickle','rb'))\n",
    "\n",
    "X=np.array(X/255.0)\n",
    "y=np.array(y)\n",
    "\n",
    "dense_layers = [0]\n",
    "layer_sizes = [64]\n",
    "conv_layers = [3]\n",
    "\n",
    "for dense_layer in dense_layers:\n",
    "    for layer_size in layer_sizes:\n",
    "        for conv_layer in conv_layers:\n",
    "            NAME = \"{}-conv-{}-nodes-{}-dense{}\".format(conv_layer,layer_size,dense_layer,int(time.time()))\n",
    "            print(NAME)\n",
    "            model = Sequential()\n",
    "            model.add(Conv2D(layer_size, (3,3), input_shape = X.shape[1:]))\n",
    "            model.add(Activation('relu'))\n",
    "            model.add(MaxPooling2D(pool_size = (2,2)))\n",
    "\n",
    "            for l in range(conv_layer-1):\n",
    "                model.add(Conv2D(layer_size, (3,3)))\n",
    "                model.add(Activation('relu'))\n",
    "                model.add(MaxPooling2D(pool_size = (2,2)))\n",
    "\n",
    "            model.add(Flatten()) #this converts 3D feature maps to 1D feature vectors\n",
    "            for l in range(dense_layer):\n",
    "                model.add(Dense(layer_size))\n",
    "                model.add(Activation('relu'))\n",
    "            \n",
    "            model.add(Dense(1))\n",
    "            model.add(Activation('sigmoid'))\n",
    "            \n",
    "   #         tensorboard = TensorBoard(log_dir = 'logs/{}'.format(NAME))\n",
    "\n",
    "            model.compile(loss = 'binary_crossentropy',\n",
    "                         optimizer='adam',\n",
    "                         metrics = ['accuracy'])\n",
    "            model.fit(X,y,batch_size = 32,epochs = 5, validation_split = 0.1)"
   ]
  },
  {
   "cell_type": "code",
   "execution_count": null,
   "metadata": {},
   "outputs": [],
   "source": []
  }
 ],
 "metadata": {
  "kernelspec": {
   "display_name": "Python 3",
   "language": "python",
   "name": "python3"
  },
  "language_info": {
   "codemirror_mode": {
    "name": "ipython",
    "version": 3
   },
   "file_extension": ".py",
   "mimetype": "text/x-python",
   "name": "python",
   "nbconvert_exporter": "python",
   "pygments_lexer": "ipython3",
   "version": "3.7.3"
  }
 },
 "nbformat": 4,
 "nbformat_minor": 2
}
